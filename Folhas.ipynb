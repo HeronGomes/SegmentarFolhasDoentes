{
 "cells": [
  {
   "cell_type": "code",
   "execution_count": 98,
   "id": "athletic-google",
   "metadata": {},
   "outputs": [],
   "source": [
    "import cv2 as  cv\n",
    "import matplotlib.pyplot as plt\n",
    "import numpy as np\n",
    "import os"
   ]
  },
  {
   "cell_type": "code",
   "execution_count": 110,
   "id": "daily-thermal",
   "metadata": {},
   "outputs": [],
   "source": [
    "path = r'Folha\\\\'\n",
    "\n",
    "list_path = os.listdir(path)\n",
    "\n",
    "for aux,img_path in enumerate(list_path):\n",
    "\n",
    "    img_original = cv.imread(path+img_path)\n",
    "    hsv = cv.cvtColor( img_original, cv.COLOR_BGR2HSV)\n",
    "    H, S, V = cv.split(hsv)\n",
    "    H[np.where( (H > 49) &  (H < 60) & (S > 5) & (S < 50) & (V > 150))] = 0 #Leia o artigo!!!!!\n",
    "    ret3,th3 = cv.threshold(H,1,49,cv.THRESH_BINARY+cv.THRESH_OTSU)\n",
    "    back = np.full(hsv.shape,(0,0,0))\n",
    "    res = cv.bitwise_not(hsv, mask= th3)\n",
    "    res[np.where(res>0)]=255\n",
    "    \n",
    "    result = cv.hconcat([img_original,res])\n",
    "    cv.imwrite(str(aux)+'_resultato.jpeg',result)\n"
   ]
  },
  {
   "cell_type": "code",
   "execution_count": null,
   "id": "outer-twist",
   "metadata": {},
   "outputs": [],
   "source": []
  }
 ],
 "metadata": {
  "kernelspec": {
   "display_name": "Python 3",
   "language": "python",
   "name": "python3"
  },
  "language_info": {
   "codemirror_mode": {
    "name": "ipython",
    "version": 3
   },
   "file_extension": ".py",
   "mimetype": "text/x-python",
   "name": "python",
   "nbconvert_exporter": "python",
   "pygments_lexer": "ipython3",
   "version": "3.9.1"
  }
 },
 "nbformat": 4,
 "nbformat_minor": 5
}
